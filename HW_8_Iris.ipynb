{
  "nbformat": 4,
  "nbformat_minor": 0,
  "metadata": {
    "colab": {
      "name": "HW_8_Iris.ipynb",
      "provenance": [],
      "collapsed_sections": [],
      "authorship_tag": "ABX9TyPi1ZMdYCG5B6jrUJ9Fyk9a",
      "include_colab_link": true
    },
    "kernelspec": {
      "name": "python3",
      "display_name": "Python 3"
    },
    "language_info": {
      "name": "python"
    }
  },
  "cells": [
    {
      "cell_type": "markdown",
      "metadata": {
        "id": "view-in-github",
        "colab_type": "text"
      },
      "source": [
        "<a href=\"https://colab.research.google.com/github/AnToxa0887/innopolis_2/blob/main/HW_8_Iris.ipynb\" target=\"_parent\"><img src=\"https://colab.research.google.com/assets/colab-badge.svg\" alt=\"Open In Colab\"/></a>"
      ]
    },
    {
      "cell_type": "markdown",
      "source": [
        "1) Загрузите датасет с помощью функции np.genfromtxt()"
      ],
      "metadata": {
        "id": "a_9GJOYXwB3M"
      }
    },
    {
      "cell_type": "code",
      "execution_count": 1,
      "metadata": {
        "id": "YACgtCsOCZxr"
      },
      "outputs": [],
      "source": [
        "import numpy as np"
      ]
    },
    {
      "cell_type": "code",
      "source": [
        "url = 'https://archive.ics.uci.edu/ml/machine-learning-databases/iris/iris.data'\n",
        "iris = np.genfromtxt(url, delimiter=',', dtype='object')"
      ],
      "metadata": {
        "id": "MfFuMfyhCkyT"
      },
      "execution_count": 2,
      "outputs": []
    },
    {
      "cell_type": "code",
      "source": [
        "iris[:10]"
      ],
      "metadata": {
        "colab": {
          "base_uri": "https://localhost:8080/"
        },
        "id": "zU5SkKGHvUlu",
        "outputId": "d07b0a16-5eeb-4417-d373-a038291c68a1"
      },
      "execution_count": 4,
      "outputs": [
        {
          "output_type": "execute_result",
          "data": {
            "text/plain": [
              "array([[b'5.1', b'3.5', b'1.4', b'0.2', b'Iris-setosa'],\n",
              "       [b'4.9', b'3.0', b'1.4', b'0.2', b'Iris-setosa'],\n",
              "       [b'4.7', b'3.2', b'1.3', b'0.2', b'Iris-setosa'],\n",
              "       [b'4.6', b'3.1', b'1.5', b'0.2', b'Iris-setosa'],\n",
              "       [b'5.0', b'3.6', b'1.4', b'0.2', b'Iris-setosa'],\n",
              "       [b'5.4', b'3.9', b'1.7', b'0.4', b'Iris-setosa'],\n",
              "       [b'4.6', b'3.4', b'1.4', b'0.3', b'Iris-setosa'],\n",
              "       [b'5.0', b'3.4', b'1.5', b'0.2', b'Iris-setosa'],\n",
              "       [b'4.4', b'2.9', b'1.4', b'0.2', b'Iris-setosa'],\n",
              "       [b'4.9', b'3.1', b'1.5', b'0.1', b'Iris-setosa']], dtype=object)"
            ]
          },
          "metadata": {},
          "execution_count": 4
        }
      ]
    },
    {
      "cell_type": "code",
      "source": [
        "iris.shape"
      ],
      "metadata": {
        "colab": {
          "base_uri": "https://localhost:8080/"
        },
        "id": "dlR-6lg_vsD2",
        "outputId": "31e58c89-7c05-4ba8-eaa4-35cb018afd34"
      },
      "execution_count": 5,
      "outputs": [
        {
          "output_type": "execute_result",
          "data": {
            "text/plain": [
              "(150, 5)"
            ]
          },
          "metadata": {},
          "execution_count": 5
        }
      ]
    },
    {
      "cell_type": "markdown",
      "source": [
        "2) Вычислите простейшие статистики: min, max, median, mean, 0.25-percentile,\n",
        "0.75-percentile для каждого из числовых атрибутов в датасете"
      ],
      "metadata": {
        "id": "W39YGnJvwF2M"
      }
    },
    {
      "cell_type": "code",
      "source": [
        "number_atrs = []\n",
        "for i in range(4):\n",
        "  number_atrs.append(np.genfromtxt(url, delimiter=',', dtype='float', usecols=[i]))"
      ],
      "metadata": {
        "id": "UFoN0SVovqf0"
      },
      "execution_count": 14,
      "outputs": []
    },
    {
      "cell_type": "code",
      "source": [
        "for i in range(len(number_atrs)):\n",
        "  print(f'Минимальное значение для атрибута {i} = ', np.min(number_atrs[i]))\n",
        "  print(f'Максимальное значение для атрибута {i} = ', np.max(number_atrs[i]))\n",
        "  print(f'Медиана для атрибута {i} = ', np.median(number_atrs[i]))\n",
        "  print(f'Среднее значение для атрибута {i} = ', np.mean(number_atrs[i]))\n",
        "  print(f'Персентиль 0.25 для атрибута {i} = ', np.percentile(number_atrs[i], 25))\n",
        "  print(f'Персентиль 0.75 для атрибута {i} = ', np.percentile(number_atrs[i], 75))\n",
        "  print('\\n')\n",
        " "
      ],
      "metadata": {
        "colab": {
          "base_uri": "https://localhost:8080/"
        },
        "id": "auhrOBRz0mLQ",
        "outputId": "40042fdd-7efa-4c8b-bfb3-5b190db680c7"
      },
      "execution_count": 15,
      "outputs": [
        {
          "output_type": "stream",
          "name": "stdout",
          "text": [
            "Минимальное значение для атрибута 0 =  4.3\n",
            "Максимальное значение для атрибута 0 =  7.9\n",
            "Медиана для атрибута 0 =  5.8\n",
            "Среднее значение для атрибута 0 =  5.843333333333334\n",
            "Персентиль 0.25 для атрибута 0 =  5.1\n",
            "Персентиль 0.75 для атрибута 0 =  6.4\n",
            "\n",
            "\n",
            "Минимальное значение для атрибута 1 =  2.0\n",
            "Максимальное значение для атрибута 1 =  4.4\n",
            "Медиана для атрибута 1 =  3.0\n",
            "Среднее значение для атрибута 1 =  3.0540000000000003\n",
            "Персентиль 0.25 для атрибута 1 =  2.8\n",
            "Персентиль 0.75 для атрибута 1 =  3.3\n",
            "\n",
            "\n",
            "Минимальное значение для атрибута 2 =  1.0\n",
            "Максимальное значение для атрибута 2 =  6.9\n",
            "Медиана для атрибута 2 =  4.35\n",
            "Среднее значение для атрибута 2 =  3.758666666666666\n",
            "Персентиль 0.25 для атрибута 2 =  1.6\n",
            "Персентиль 0.75 для атрибута 2 =  5.1\n",
            "\n",
            "\n",
            "Минимальное значение для атрибута 3 =  0.1\n",
            "Максимальное значение для атрибута 3 =  2.5\n",
            "Медиана для атрибута 3 =  1.3\n",
            "Среднее значение для атрибута 3 =  1.1986666666666668\n",
            "Персентиль 0.25 для атрибута 3 =  0.3\n",
            "Персентиль 0.75 для атрибута 3 =  1.8\n",
            "\n",
            "\n"
          ]
        }
      ]
    },
    {
      "cell_type": "markdown",
      "source": [
        "3) Постройте гистограмму для каждого из числовых атрибутов в датасете"
      ],
      "metadata": {
        "id": "Yh7Q6OJ-B9_-"
      }
    },
    {
      "cell_type": "code",
      "source": [
        "import matplotlib.pyplot as plt"
      ],
      "metadata": {
        "id": "GUocMt8r9zPT"
      },
      "execution_count": 17,
      "outputs": []
    },
    {
      "cell_type": "code",
      "source": [
        ""
      ],
      "metadata": {
        "id": "tDrAY_yuCmGP"
      },
      "execution_count": null,
      "outputs": []
    }
  ]
}