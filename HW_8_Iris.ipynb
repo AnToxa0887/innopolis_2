{
  "nbformat": 4,
  "nbformat_minor": 0,
  "metadata": {
    "colab": {
      "name": "HW_8_Iris.ipynb",
      "provenance": [],
      "collapsed_sections": [],
      "authorship_tag": "ABX9TyNFOfmu2yZ0MM1uAFzYKMt9",
      "include_colab_link": true
    },
    "kernelspec": {
      "name": "python3",
      "display_name": "Python 3"
    },
    "language_info": {
      "name": "python"
    }
  },
  "cells": [
    {
      "cell_type": "markdown",
      "metadata": {
        "id": "view-in-github",
        "colab_type": "text"
      },
      "source": [
        "<a href=\"https://colab.research.google.com/github/AnToxa0887/innopolis_2/blob/main/HW_8_Iris.ipynb\" target=\"_parent\"><img src=\"https://colab.research.google.com/assets/colab-badge.svg\" alt=\"Open In Colab\"/></a>"
      ]
    },
    {
      "cell_type": "markdown",
      "source": [
        "1) Загрузите датасет с помощью функции np.genfromtxt()"
      ],
      "metadata": {
        "id": "a_9GJOYXwB3M"
      }
    },
    {
      "cell_type": "code",
      "execution_count": 1,
      "metadata": {
        "id": "YACgtCsOCZxr"
      },
      "outputs": [],
      "source": [
        "import numpy as np"
      ]
    },
    {
      "cell_type": "code",
      "source": [
        "url = 'https://archive.ics.uci.edu/ml/machine-learning-databases/iris/iris.data'\n",
        "iris = np.genfromtxt(url, delimiter=',', dtype='object')"
      ],
      "metadata": {
        "id": "MfFuMfyhCkyT"
      },
      "execution_count": 2,
      "outputs": []
    },
    {
      "cell_type": "code",
      "source": [
        "atr_1=np.genfromtxt(url, delimiter=',', dtype='float', usecols=[0])\n",
        "atr_2=np.genfromtxt(url, delimiter=',', dtype='float', usecols=[1])\n",
        "atr_3=np.genfromtxt(url, delimiter=',', dtype='float', usecols=[2])\n",
        "atr_4=np.genfromtxt(url, delimiter=',', dtype='float', usecols=[3])\n",
        "atr_5=np.genfromtxt(url, delimiter=',', dtype='str', usecols=[4])"
      ],
      "metadata": {
        "id": "klhADZaX2EU-"
      },
      "execution_count": 3,
      "outputs": []
    },
    {
      "cell_type": "code",
      "source": [
        "iris[:10]"
      ],
      "metadata": {
        "colab": {
          "base_uri": "https://localhost:8080/"
        },
        "id": "zU5SkKGHvUlu",
        "outputId": "54e1be4c-ce75-47d3-fdf5-6e032df1f861"
      },
      "execution_count": 4,
      "outputs": [
        {
          "output_type": "execute_result",
          "data": {
            "text/plain": [
              "array([[b'5.1', b'3.5', b'1.4', b'0.2', b'Iris-setosa'],\n",
              "       [b'4.9', b'3.0', b'1.4', b'0.2', b'Iris-setosa'],\n",
              "       [b'4.7', b'3.2', b'1.3', b'0.2', b'Iris-setosa'],\n",
              "       [b'4.6', b'3.1', b'1.5', b'0.2', b'Iris-setosa'],\n",
              "       [b'5.0', b'3.6', b'1.4', b'0.2', b'Iris-setosa'],\n",
              "       [b'5.4', b'3.9', b'1.7', b'0.4', b'Iris-setosa'],\n",
              "       [b'4.6', b'3.4', b'1.4', b'0.3', b'Iris-setosa'],\n",
              "       [b'5.0', b'3.4', b'1.5', b'0.2', b'Iris-setosa'],\n",
              "       [b'4.4', b'2.9', b'1.4', b'0.2', b'Iris-setosa'],\n",
              "       [b'4.9', b'3.1', b'1.5', b'0.1', b'Iris-setosa']], dtype=object)"
            ]
          },
          "metadata": {},
          "execution_count": 4
        }
      ]
    },
    {
      "cell_type": "code",
      "source": [
        "iris.shape"
      ],
      "metadata": {
        "colab": {
          "base_uri": "https://localhost:8080/"
        },
        "id": "dlR-6lg_vsD2",
        "outputId": "a8ad0191-2e93-4b5b-de84-d3e152c4ed67"
      },
      "execution_count": null,
      "outputs": [
        {
          "output_type": "execute_result",
          "data": {
            "text/plain": [
              "(150, 5)"
            ]
          },
          "metadata": {},
          "execution_count": 16
        }
      ]
    },
    {
      "cell_type": "markdown",
      "source": [
        "2) Вычислите простейшие статистики: min, max, median, mean, 0.25-percentile,\n",
        "0.75-percentile для каждого из числовых атрибутов в датасете"
      ],
      "metadata": {
        "id": "W39YGnJvwF2M"
      }
    },
    {
      "cell_type": "code",
      "source": [
        "number_atrs = []\n",
        "for i in range(4):\n",
        "  number_atrs.append(np.genfromtxt(url, delimiter=',', dtype='float', usecols=[i]))"
      ],
      "metadata": {
        "id": "UFoN0SVovqf0"
      },
      "execution_count": 5,
      "outputs": []
    },
    {
      "cell_type": "code",
      "source": [
        "for i in range(len(number_atrs)):\n",
        "  print(f'Минимальное значение для атрибута {i} = ', np.min(number_atrs[i]))\n",
        "  print(f'Максимальное значение для атрибута {i} = ', np.max(number_atrs[i]))\n",
        "  print(f'Медиана для атрибута {i} = ', np.median(number_atrs[i]))\n",
        "  print(f'Среднее значение для атрибута {i} = ', np.mean(number_atrs[i]))\n",
        "  print(f'Персентиль 0.25 для атрибута {i} = ', np.percentile(number_atrs[i], 25))\n",
        "  print(f'Персентиль 0.75 для атрибута {i} = ', np.percentile(number_atrs[i], 75))\n",
        "  print('\\n')\n",
        " "
      ],
      "metadata": {
        "colab": {
          "base_uri": "https://localhost:8080/"
        },
        "id": "auhrOBRz0mLQ",
        "outputId": "d4a051e4-3cc9-46ae-9734-2411d6c56a22"
      },
      "execution_count": 6,
      "outputs": [
        {
          "output_type": "stream",
          "name": "stdout",
          "text": [
            "Минимальное значение для атрибута 0 =  4.3\n",
            "Максимальное значение для атрибута 0 =  7.9\n",
            "Медиана для атрибута 0 =  5.8\n",
            "Среднее значение для атрибута 0 =  5.843333333333334\n",
            "Персентиль 0.25 для атрибута 0 =  5.1\n",
            "Персентиль 0.75 для атрибута 0 =  6.4\n",
            "\n",
            "\n",
            "Минимальное значение для атрибута 1 =  2.0\n",
            "Максимальное значение для атрибута 1 =  4.4\n",
            "Медиана для атрибута 1 =  3.0\n",
            "Среднее значение для атрибута 1 =  3.0540000000000003\n",
            "Персентиль 0.25 для атрибута 1 =  2.8\n",
            "Персентиль 0.75 для атрибута 1 =  3.3\n",
            "\n",
            "\n",
            "Минимальное значение для атрибута 2 =  1.0\n",
            "Максимальное значение для атрибута 2 =  6.9\n",
            "Медиана для атрибута 2 =  4.35\n",
            "Среднее значение для атрибута 2 =  3.758666666666666\n",
            "Персентиль 0.25 для атрибута 2 =  1.6\n",
            "Персентиль 0.75 для атрибута 2 =  5.1\n",
            "\n",
            "\n",
            "Минимальное значение для атрибута 3 =  0.1\n",
            "Максимальное значение для атрибута 3 =  2.5\n",
            "Медиана для атрибута 3 =  1.3\n",
            "Среднее значение для атрибута 3 =  1.1986666666666668\n",
            "Персентиль 0.25 для атрибута 3 =  0.3\n",
            "Персентиль 0.75 для атрибута 3 =  1.8\n",
            "\n",
            "\n"
          ]
        }
      ]
    },
    {
      "cell_type": "markdown",
      "source": [
        "3) Постройте гистограмму для каждого из числовых атрибутов в датасете"
      ],
      "metadata": {
        "id": "Yh7Q6OJ-B9_-"
      }
    },
    {
      "cell_type": "code",
      "source": [
        "import matplotlib.pyplot as plt"
      ],
      "metadata": {
        "id": "GUocMt8r9zPT"
      },
      "execution_count": 7,
      "outputs": []
    },
    {
      "cell_type": "code",
      "source": [
        "for i in range(len(number_atrs)):\n",
        "  plt.hist(number_atrs[i])\n",
        "  plt.title(f'Гистограмма для атрибута {i}')\n",
        "  plt.show()\n",
        "\n"
      ],
      "metadata": {
        "colab": {
          "base_uri": "https://localhost:8080/",
          "height": 1000
        },
        "id": "_ByH7oTkk_MA",
        "outputId": "14bafc1a-a1a9-413a-b1e0-430d920264d8"
      },
      "execution_count": 8,
      "outputs": [
        {
          "output_type": "display_data",
          "data": {
            "image/png": "[encoded data removed]",
            "text/plain": [
              "<Figure size 432x288 with 1 Axes>"
            ]
          },
          "metadata": {
            "needs_background": "light"
          }
        },
        {
          "output_type": "display_data",
          "data": {
            "image/png": "[encoded data removed]",
            "text/plain": [
              "<Figure size 432x288 with 1 Axes>"
            ]
          },
          "metadata": {
            "needs_background": "light"
          }
        },
        {
          "output_type": "display_data",
          "data": {
            "image/png": "[encoded data removed]",
            "text/plain": [
              "<Figure size 432x288 with 1 Axes>"
            ]
          },
          "metadata": {
            "needs_background": "light"
          }
        },
        {
          "output_type": "display_data",
          "data": {
            "image/png": "[encoded data removed]",
            "text/plain": [
              "<Figure size 432x288 with 1 Axes>"
            ]
          },
          "metadata": {
            "needs_background": "light"
          }
        }
      ]
    },
    {
      "cell_type": "code",
      "source": [
        "#вывод графиков на одно поле\n",
        "fig, ((ax1,ax2), (ax3,ax4)) = plt.subplots(nrows=2, ncols=2)\n",
        "\n",
        "ax1.hist(atr_1)\n",
        "ax1.set_title('Гистограмма для atr_1')\n",
        "\n",
        "ax2.hist(atr_2)\n",
        "ax2.set_title('Гистограмма для atr_2')\n",
        "\n",
        "ax3.hist(atr_3)\n",
        "ax3.set_title('Гистограмма для atr_3')\n",
        "\n",
        "ax4.hist(atr_4)\n",
        "ax4.set_title('Гистограмма для atr_4')\n",
        "\n",
        "fig.tight_layout()\n",
        "plt.show()"
      ],
      "metadata": {
        "colab": {
          "base_uri": "https://localhost:8080/",
          "height": 297
        },
        "id": "4mpR-DUBSCxB",
        "outputId": "c73c4480-8dbe-4822-ab34-ff26dc3978fd"
      },
      "execution_count": 36,
      "outputs": [
        {
          "output_type": "display_data",
          "data": {
            "image/png": "[encoded data removed]",
            "text/plain": [
              "<Figure size 432x288 with 4 Axes>"
            ]
          },
          "metadata": {
            "needs_background": "light"
          }
        }
      ]
    },
    {
      "cell_type": "markdown",
      "source": [
        "4) Сгруппируйте датасет по категории (последний столбец датасета) и повторите\n",
        "шаги 2 и 3 для групп.\n"
      ],
      "metadata": {
        "id": "52LUs5rWwICW"
      }
    },
    {
      "cell_type": "markdown",
      "source": [
        "Разобъем задание на этапы.\n",
        "Сначала создадим 3 датасета по 3м категориям на основе первого числового столбца"
      ],
      "metadata": {
        "id": "l9fC8hKhC7iX"
      }
    },
    {
      "cell_type": "code",
      "source": [
        "new_1 = []\n",
        "\n",
        "for i in np.unique(atr_5):\n",
        "  new_1.append(atr_1[atr_5==i])\n",
        "#первые три группы по первому числовому ряду\n",
        "new_1"
      ],
      "metadata": {
        "colab": {
          "base_uri": "https://localhost:8080/"
        },
        "id": "IIyZKGwQ4tYO",
        "outputId": "beb37ea6-e6f6-446d-d341-c4389c7c6834"
      },
      "execution_count": 10,
      "outputs": [
        {
          "output_type": "execute_result",
          "data": {
            "text/plain": [
              "[array([5.1, 4.9, 4.7, 4.6, 5. , 5.4, 4.6, 5. , 4.4, 4.9, 5.4, 4.8, 4.8,\n",
              "        4.3, 5.8, 5.7, 5.4, 5.1, 5.7, 5.1, 5.4, 5.1, 4.6, 5.1, 4.8, 5. ,\n",
              "        5. , 5.2, 5.2, 4.7, 4.8, 5.4, 5.2, 5.5, 4.9, 5. , 5.5, 4.9, 4.4,\n",
              "        5.1, 5. , 4.5, 4.4, 5. , 5.1, 4.8, 5.1, 4.6, 5.3, 5. ]),\n",
              " array([7. , 6.4, 6.9, 5.5, 6.5, 5.7, 6.3, 4.9, 6.6, 5.2, 5. , 5.9, 6. ,\n",
              "        6.1, 5.6, 6.7, 5.6, 5.8, 6.2, 5.6, 5.9, 6.1, 6.3, 6.1, 6.4, 6.6,\n",
              "        6.8, 6.7, 6. , 5.7, 5.5, 5.5, 5.8, 6. , 5.4, 6. , 6.7, 6.3, 5.6,\n",
              "        5.5, 5.5, 6.1, 5.8, 5. , 5.6, 5.7, 5.7, 6.2, 5.1, 5.7]),\n",
              " array([6.3, 5.8, 7.1, 6.3, 6.5, 7.6, 4.9, 7.3, 6.7, 7.2, 6.5, 6.4, 6.8,\n",
              "        5.7, 5.8, 6.4, 6.5, 7.7, 7.7, 6. , 6.9, 5.6, 7.7, 6.3, 6.7, 7.2,\n",
              "        6.2, 6.1, 6.4, 7.2, 7.4, 7.9, 6.4, 6.3, 6.1, 7.7, 6.3, 6.4, 6. ,\n",
              "        6.9, 6.7, 6.9, 5.8, 6.8, 6.7, 6.7, 6.3, 6.5, 6.2, 5.9])]"
            ]
          },
          "metadata": {},
          "execution_count": 10
        }
      ]
    },
    {
      "cell_type": "code",
      "source": [
        "new_1[2]"
      ],
      "metadata": {
        "colab": {
          "base_uri": "https://localhost:8080/"
        },
        "id": "mEt_hyyIDfYl",
        "outputId": "df5eeedf-9649-4d20-de56-c6816ec5b9bc"
      },
      "execution_count": 12,
      "outputs": [
        {
          "output_type": "execute_result",
          "data": {
            "text/plain": [
              "array([6.3, 5.8, 7.1, 6.3, 6.5, 7.6, 4.9, 7.3, 6.7, 7.2, 6.5, 6.4, 6.8,\n",
              "       5.7, 5.8, 6.4, 6.5, 7.7, 7.7, 6. , 6.9, 5.6, 7.7, 6.3, 6.7, 7.2,\n",
              "       6.2, 6.1, 6.4, 7.2, 7.4, 7.9, 6.4, 6.3, 6.1, 7.7, 6.3, 6.4, 6. ,\n",
              "       6.9, 6.7, 6.9, 5.8, 6.8, 6.7, 6.7, 6.3, 6.5, 6.2, 5.9])"
            ]
          },
          "metadata": {},
          "execution_count": 12
        }
      ]
    },
    {
      "cell_type": "code",
      "source": [
        "#среднее значение для каждой группы у первого атрибута\n",
        "np.mean(new_1, axis =1)"
      ],
      "metadata": {
        "colab": {
          "base_uri": "https://localhost:8080/"
        },
        "id": "_7alVn6VEHpe",
        "outputId": "7778c160-1bec-4477-f2d8-7b8808cf73f5"
      },
      "execution_count": 13,
      "outputs": [
        {
          "output_type": "execute_result",
          "data": {
            "text/plain": [
              "array([5.006, 5.936, 6.588])"
            ]
          },
          "metadata": {},
          "execution_count": 13
        }
      ]
    },
    {
      "cell_type": "code",
      "source": [
        "#2задание\n",
        "print('Минимальное значение для new_1 = ', np.min(new_1, axis =1))\n",
        "print('Максимальное значение для new_1 = ', np.max(new_1, axis =1))\n",
        "print('Медиана для new_1 = ', np.median(new_1, axis =1))\n",
        "print('Среднее значение для new_1 = ', np.mean(new_1, axis =1))\n",
        "print('Персентиль 0.25 для new_1 = ', np.percentile(new_1, 25, axis =1))\n",
        "print('Персентиль 0.75 для new_1 = ', np.percentile(new_1, 75, axis =1))\n",
        "\n",
        "#3задание\n",
        "plt.hist(new_1)\n",
        "plt.title('Гистограмма для new_1')\n",
        "plt.legend([1,2,3])\n",
        "plt.show()"
      ],
      "metadata": {
        "colab": {
          "base_uri": "https://localhost:8080/",
          "height": 420
        },
        "id": "VKve8Zz7Emhl",
        "outputId": "15ed7e96-5bb2-488c-8396-9980ca348db1"
      },
      "execution_count": 16,
      "outputs": [
        {
          "output_type": "stream",
          "name": "stdout",
          "text": [
            "Минимальное значение для new_1 =  [4.3 4.9 4.9]\n",
            "Максимальное значение для new_1 =  [5.8 7.  7.9]\n",
            "Медиана для new_1 =  [5.  5.9 6.5]\n",
            "Среднее значение для new_1 =  [5.006 5.936 6.588]\n",
            "Персентиль 0.25 для new_1 =  [4.8   5.6   6.225]\n",
            "Персентиль 0.75 для new_1 =  [5.2 6.3 6.9]\n",
            "\n",
            "\n"
          ]
        },
        {
          "output_type": "display_data",
          "data": {
            "image/png": "[encoded data removed]",
            "text/plain": [
              "<Figure size 432x288 with 1 Axes>"
            ]
          },
          "metadata": {
            "needs_background": "light"
          }
        }
      ]
    },
    {
      "cell_type": "markdown",
      "source": [
        "Для остальных столбцов код будет схожим. Создадим общий код для каждого из атрибутов."
      ],
      "metadata": {
        "id": "-lMtm28sGpEd"
      }
    },
    {
      "cell_type": "code",
      "source": [
        "new_number_atrs = []\n",
        "for i in range(len(number_atrs)):\n",
        "  for group_val in np.unique(atr_5):  #group_val - название группы из 5го нечислового атрибута\n",
        "    new_number_atrs.append([i, group_val, number_atrs[i][atr_5==group_val]])\n",
        "\n",
        "len(new_number_atrs) #размер списка совпадает с предполагаемым ранее значением 3*4=12"
      ],
      "metadata": {
        "id": "q8LgYJvH4wy0",
        "colab": {
          "base_uri": "https://localhost:8080/"
        },
        "outputId": "27e17fa4-d4bb-4be1-cea0-0b18c9200183"
      },
      "execution_count": 22,
      "outputs": [
        {
          "output_type": "execute_result",
          "data": {
            "text/plain": [
              "12"
            ]
          },
          "metadata": {},
          "execution_count": 22
        }
      ]
    },
    {
      "cell_type": "code",
      "source": [
        "new_number_atrs[0] #список первого атрибута"
      ],
      "metadata": {
        "colab": {
          "base_uri": "https://localhost:8080/"
        },
        "id": "3RqLqfpxKLm7",
        "outputId": "ccd24900-cd4b-410f-c5bc-ac044c2740e7"
      },
      "execution_count": 24,
      "outputs": [
        {
          "output_type": "execute_result",
          "data": {
            "text/plain": [
              "[0,\n",
              " 'Iris-setosa',\n",
              " array([5.1, 4.9, 4.7, 4.6, 5. , 5.4, 4.6, 5. , 4.4, 4.9, 5.4, 4.8, 4.8,\n",
              "        4.3, 5.8, 5.7, 5.4, 5.1, 5.7, 5.1, 5.4, 5.1, 4.6, 5.1, 4.8, 5. ,\n",
              "        5. , 5.2, 5.2, 4.7, 4.8, 5.4, 5.2, 5.5, 4.9, 5. , 5.5, 4.9, 4.4,\n",
              "        5.1, 5. , 4.5, 4.4, 5. , 5.1, 4.8, 5.1, 4.6, 5.3, 5. ])]"
            ]
          },
          "metadata": {},
          "execution_count": 24
        }
      ]
    },
    {
      "cell_type": "code",
      "source": [
        "new_number_atrs[0][2] #сам массив находится на 3 месте, т.е. индекс 2"
      ],
      "metadata": {
        "colab": {
          "base_uri": "https://localhost:8080/"
        },
        "id": "IRHVNoqyKf-D",
        "outputId": "9183a480-6217-4b1a-865c-9e98d27f7ec6"
      },
      "execution_count": 25,
      "outputs": [
        {
          "output_type": "execute_result",
          "data": {
            "text/plain": [
              "array([5.1, 4.9, 4.7, 4.6, 5. , 5.4, 4.6, 5. , 4.4, 4.9, 5.4, 4.8, 4.8,\n",
              "       4.3, 5.8, 5.7, 5.4, 5.1, 5.7, 5.1, 5.4, 5.1, 4.6, 5.1, 4.8, 5. ,\n",
              "       5. , 5.2, 5.2, 4.7, 4.8, 5.4, 5.2, 5.5, 4.9, 5. , 5.5, 4.9, 4.4,\n",
              "       5.1, 5. , 4.5, 4.4, 5. , 5.1, 4.8, 5.1, 4.6, 5.3, 5. ])"
            ]
          },
          "metadata": {},
          "execution_count": 25
        }
      ]
    },
    {
      "cell_type": "code",
      "source": [
        "for i in range(len(new_number_atrs)):\n",
        "  print(f'Для числового атрибута {new_number_atrs[i][0]+1} группы {new_number_atrs[i][1]} ')\n",
        "  print('\\n')\n",
        "  print(f'Минимальное значение для группы {i} = ', np.min(new_number_atrs[i][2]))\n",
        "  print(f'Максимальное значение для группы {i} = ', np.max(new_number_atrs[i][2]))\n",
        "  print(f'Медиана для группы {i} = ', np.median(new_number_atrs[i][2]))\n",
        "  print(f'Среднее значение для группы {i} = ', np.mean(new_number_atrs[i][2]))\n",
        "  print(f'Персентиль 0.25 для группы {i} = ', np.percentile(new_number_atrs[i][2], 25))\n",
        "  print(f'Персентиль 0.75 для группы {i} = ', np.percentile(new_number_atrs[i][2], 75))\n",
        "  print('\\n')\n",
        "  print('Выведем гистограмму')\n",
        "  plt.hist(new_number_atrs[i][2])\n",
        "  plt.title(f'Гистограмма для атрибута {i}')\n",
        "  plt.show()\n"
      ],
      "metadata": {
        "colab": {
          "base_uri": "https://localhost:8080/",
          "height": 1000
        },
        "id": "Ohfy3M3nKzaE",
        "outputId": "a88489ad-4fd8-4153-c1fb-51d31bb31272"
      },
      "execution_count": 37,
      "outputs": [
        {
          "output_type": "stream",
          "name": "stdout",
          "text": [
            "Для числового атрибута 1 группы Iris-setosa \n",
            "\n",
            "\n",
            "Минимальное значение для группы 0 =  4.3\n",
            "Максимальное значение для группы 0 =  5.8\n",
            "Медиана для группы 0 =  5.0\n",
            "Среднее значение для группы 0 =  5.006\n",
            "Персентиль 0.25 для группы 0 =  4.8\n",
            "Персентиль 0.75 для группы 0 =  5.2\n",
            "\n",
            "\n",
            "Выведем гистограмму\n"
          ]
        },
        {
          "output_type": "display_data",
          "data": {
            "image/png": "[encoded data removed]",
            "text/plain": [
              "<Figure size 432x288 with 1 Axes>"
            ]
          },
          "metadata": {
            "needs_background": "light"
          }
        },
        {
          "output_type": "stream",
          "name": "stdout",
          "text": [
            "Для числового атрибута 1 группы Iris-versicolor \n",
            "\n",
            "\n",
            "Минимальное значение для группы 1 =  4.9\n",
            "Максимальное значение для группы 1 =  7.0\n",
            "Медиана для группы 1 =  5.9\n",
            "Среднее значение для группы 1 =  5.936\n",
            "Персентиль 0.25 для группы 1 =  5.6\n",
            "Персентиль 0.75 для группы 1 =  6.3\n",
            "\n",
            "\n",
            "Выведем гистограмму\n"
          ]
        },
        {
          "output_type": "display_data",
          "data": {
            "image/png": "[encoded data removed]",
            "text/plain": [
              "<Figure size 432x288 with 1 Axes>"
            ]
          },
          "metadata": {
            "needs_background": "light"
          }
        },
        {
          "output_type": "stream",
          "name": "stdout",
          "text": [
            "Для числового атрибута 1 группы Iris-virginica \n",
            "\n",
            "\n",
            "Минимальное значение для группы 2 =  4.9\n",
            "Максимальное значение для группы 2 =  7.9\n",
            "Медиана для группы 2 =  6.5\n",
            "Среднее значение для группы 2 =  6.587999999999998\n",
            "Персентиль 0.25 для группы 2 =  6.2250000000000005\n",
            "Персентиль 0.75 для группы 2 =  6.9\n",
            "\n",
            "\n",
            "Выведем гистограмму\n"
          ]
        },
        {
          "output_type": "display_data",
          "data": {
            "image/png": "[encoded data removed]",
            "text/plain": [
              "<Figure size 432x288 with 1 Axes>"
            ]
          },
          "metadata": {
            "needs_background": "light"
          }
        },
        {
          "output_type": "stream",
          "name": "stdout",
          "text": [
            "Для числового атрибута 2 группы Iris-setosa \n",
            "\n",
            "\n",
            "Минимальное значение для группы 3 =  2.3\n",
            "Максимальное значение для группы 3 =  4.4\n",
            "Медиана для группы 3 =  3.4\n",
            "Среднее значение для группы 3 =  3.418\n",
            "Персентиль 0.25 для группы 3 =  3.125\n",
            "Персентиль 0.75 для группы 3 =  3.6750000000000003\n",
            "\n",
            "\n",
            "Выведем гистограмму\n"
          ]
        },
        {
          "output_type": "display_data",
          "data": {
            "image/png": "[encoded data removed]",
            "text/plain": [
              "<Figure size 432x288 with 1 Axes>"
            ]
          },
          "metadata": {
            "needs_background": "light"
          }
        },
        {
          "output_type": "stream",
          "name": "stdout",
          "text": [
            "Для числового атрибута 2 группы Iris-versicolor \n",
            "\n",
            "\n",
            "Минимальное значение для группы 4 =  2.0\n",
            "Максимальное значение для группы 4 =  3.4\n",
            "Медиана для группы 4 =  2.8\n",
            "Среднее значение для группы 4 =  2.7700000000000005\n",
            "Персентиль 0.25 для группы 4 =  2.525\n",
            "Персентиль 0.75 для группы 4 =  3.0\n",
            "\n",
            "\n",
            "Выведем гистограмму\n"
          ]
        },
        {
          "output_type": "display_data",
          "data": {
            "image/png": "[encoded data removed]",
            "text/plain": [
              "<Figure size 432x288 with 1 Axes>"
            ]
          },
          "metadata": {
            "needs_background": "light"
          }
        },
        {
          "output_type": "stream",
          "name": "stdout",
          "text": [
            "Для числового атрибута 2 группы Iris-virginica \n",
            "\n",
            "\n",
            "Минимальное значение для группы 5 =  2.2\n",
            "Максимальное значение для группы 5 =  3.8\n",
            "Медиана для группы 5 =  3.0\n",
            "Среднее значение для группы 5 =  2.974\n",
            "Персентиль 0.25 для группы 5 =  2.8\n",
            "Персентиль 0.75 для группы 5 =  3.1750000000000003\n",
            "\n",
            "\n",
            "Выведем гистограмму\n"
          ]
        },
        {
          "output_type": "display_data",
          "data": {
            "image/png": "[encoded data removed]",
            "text/plain": [
              "<Figure size 432x288 with 1 Axes>"
            ]
          },
          "metadata": {
            "needs_background": "light"
          }
        },
        {
          "output_type": "stream",
          "name": "stdout",
          "text": [
            "Для числового атрибута 3 группы Iris-setosa \n",
            "\n",
            "\n",
            "Минимальное значение для группы 6 =  1.0\n",
            "Максимальное значение для группы 6 =  1.9\n",
            "Медиана для группы 6 =  1.5\n",
            "Среднее значение для группы 6 =  1.464\n",
            "Персентиль 0.25 для группы 6 =  1.4\n",
            "Персентиль 0.75 для группы 6 =  1.5750000000000002\n",
            "\n",
            "\n",
            "Выведем гистограмму\n"
          ]
        },
        {
          "output_type": "display_data",
          "data": {
            "image/png": "[encoded data removed]",
            "text/plain": [
              "<Figure size 432x288 with 1 Axes>"
            ]
          },
          "metadata": {
            "needs_background": "light"
          }
        },
        {
          "output_type": "stream",
          "name": "stdout",
          "text": [
            "Для числового атрибута 3 группы Iris-versicolor \n",
            "\n",
            "\n",
            "Минимальное значение для группы 7 =  3.0\n",
            "Максимальное значение для группы 7 =  5.1\n",
            "Медиана для группы 7 =  4.35\n",
            "Среднее значение для группы 7 =  4.26\n",
            "Персентиль 0.25 для группы 7 =  4.0\n",
            "Персентиль 0.75 для группы 7 =  4.6\n",
            "\n",
            "\n",
            "Выведем гистограмму\n"
          ]
        },
        {
          "output_type": "display_data",
          "data": {
            "image/png": "[encoded data removed]",
            "text/plain": [
              "<Figure size 432x288 with 1 Axes>"
            ]
          },
          "metadata": {
            "needs_background": "light"
          }
        },
        {
          "output_type": "stream",
          "name": "stdout",
          "text": [
            "Для числового атрибута 3 группы Iris-virginica \n",
            "\n",
            "\n",
            "Минимальное значение для группы 8 =  4.5\n",
            "Максимальное значение для группы 8 =  6.9\n",
            "Медиана для группы 8 =  5.55\n",
            "Среднее значение для группы 8 =  5.5520000000000005\n",
            "Персентиль 0.25 для группы 8 =  5.1\n",
            "Персентиль 0.75 для группы 8 =  5.875000000000001\n",
            "\n",
            "\n",
            "Выведем гистограмму\n"
          ]
        },
        {
          "output_type": "display_data",
          "data": {
            "image/png": "[encoded data removed]",
            "text/plain": [
              "<Figure size 432x288 with 1 Axes>"
            ]
          },
          "metadata": {
            "needs_background": "light"
          }
        },
        {
          "output_type": "stream",
          "name": "stdout",
          "text": [
            "Для числового атрибута 4 группы Iris-setosa \n",
            "\n",
            "\n",
            "Минимальное значение для группы 9 =  0.1\n",
            "Максимальное значение для группы 9 =  0.6\n",
            "Медиана для группы 9 =  0.2\n",
            "Среднее значение для группы 9 =  0.244\n",
            "Персентиль 0.25 для группы 9 =  0.2\n",
            "Персентиль 0.75 для группы 9 =  0.3\n",
            "\n",
            "\n",
            "Выведем гистограмму\n"
          ]
        },
        {
          "output_type": "display_data",
          "data": {
            "image/png": "[encoded data removed]",
            "text/plain": [
              "<Figure size 432x288 with 1 Axes>"
            ]
          },
          "metadata": {
            "needs_background": "light"
          }
        },
        {
          "output_type": "stream",
          "name": "stdout",
          "text": [
            "Для числового атрибута 4 группы Iris-versicolor \n",
            "\n",
            "\n",
            "Минимальное значение для группы 10 =  1.0\n",
            "Максимальное значение для группы 10 =  1.8\n",
            "Медиана для группы 10 =  1.3\n",
            "Среднее значение для группы 10 =  1.3259999999999998\n",
            "Персентиль 0.25 для группы 10 =  1.2\n",
            "Персентиль 0.75 для группы 10 =  1.5\n",
            "\n",
            "\n",
            "Выведем гистограмму\n"
          ]
        },
        {
          "output_type": "display_data",
          "data": {
            "image/png": "[encoded data removed]",
            "text/plain": [
              "<Figure size 432x288 with 1 Axes>"
            ]
          },
          "metadata": {
            "needs_background": "light"
          }
        },
        {
          "output_type": "stream",
          "name": "stdout",
          "text": [
            "Для числового атрибута 4 группы Iris-virginica \n",
            "\n",
            "\n",
            "Минимальное значение для группы 11 =  1.4\n",
            "Максимальное значение для группы 11 =  2.5\n",
            "Медиана для группы 11 =  2.0\n",
            "Среднее значение для группы 11 =  2.0260000000000002\n",
            "Персентиль 0.25 для группы 11 =  1.8\n",
            "Персентиль 0.75 для группы 11 =  2.3\n",
            "\n",
            "\n",
            "Выведем гистограмму\n"
          ]
        },
        {
          "output_type": "display_data",
          "data": {
            "image/png": "[encoded data removed]",
            "text/plain": [
              "<Figure size 432x288 with 1 Axes>"
            ]
          },
          "metadata": {
            "needs_background": "light"
          }
        }
      ]
    },
    {
      "cell_type": "code",
      "source": [
        "new_number_atrs"
      ],
      "metadata": {
        "id": "zq5eFpr-xepp",
        "colab": {
          "base_uri": "https://localhost:8080/"
        },
        "outputId": "972227c5-90b9-42fa-e17e-4a3b1b4faea7"
      },
      "execution_count": 23,
      "outputs": [
        {
          "output_type": "execute_result",
          "data": {
            "text/plain": [
              "[[0,\n",
              "  'Iris-setosa',\n",
              "  array([5.1, 4.9, 4.7, 4.6, 5. , 5.4, 4.6, 5. , 4.4, 4.9, 5.4, 4.8, 4.8,\n",
              "         4.3, 5.8, 5.7, 5.4, 5.1, 5.7, 5.1, 5.4, 5.1, 4.6, 5.1, 4.8, 5. ,\n",
              "         5. , 5.2, 5.2, 4.7, 4.8, 5.4, 5.2, 5.5, 4.9, 5. , 5.5, 4.9, 4.4,\n",
              "         5.1, 5. , 4.5, 4.4, 5. , 5.1, 4.8, 5.1, 4.6, 5.3, 5. ])],\n",
              " [0,\n",
              "  'Iris-versicolor',\n",
              "  array([7. , 6.4, 6.9, 5.5, 6.5, 5.7, 6.3, 4.9, 6.6, 5.2, 5. , 5.9, 6. ,\n",
              "         6.1, 5.6, 6.7, 5.6, 5.8, 6.2, 5.6, 5.9, 6.1, 6.3, 6.1, 6.4, 6.6,\n",
              "         6.8, 6.7, 6. , 5.7, 5.5, 5.5, 5.8, 6. , 5.4, 6. , 6.7, 6.3, 5.6,\n",
              "         5.5, 5.5, 6.1, 5.8, 5. , 5.6, 5.7, 5.7, 6.2, 5.1, 5.7])],\n",
              " [0,\n",
              "  'Iris-virginica',\n",
              "  array([6.3, 5.8, 7.1, 6.3, 6.5, 7.6, 4.9, 7.3, 6.7, 7.2, 6.5, 6.4, 6.8,\n",
              "         5.7, 5.8, 6.4, 6.5, 7.7, 7.7, 6. , 6.9, 5.6, 7.7, 6.3, 6.7, 7.2,\n",
              "         6.2, 6.1, 6.4, 7.2, 7.4, 7.9, 6.4, 6.3, 6.1, 7.7, 6.3, 6.4, 6. ,\n",
              "         6.9, 6.7, 6.9, 5.8, 6.8, 6.7, 6.7, 6.3, 6.5, 6.2, 5.9])],\n",
              " [1,\n",
              "  'Iris-setosa',\n",
              "  array([3.5, 3. , 3.2, 3.1, 3.6, 3.9, 3.4, 3.4, 2.9, 3.1, 3.7, 3.4, 3. ,\n",
              "         3. , 4. , 4.4, 3.9, 3.5, 3.8, 3.8, 3.4, 3.7, 3.6, 3.3, 3.4, 3. ,\n",
              "         3.4, 3.5, 3.4, 3.2, 3.1, 3.4, 4.1, 4.2, 3.1, 3.2, 3.5, 3.1, 3. ,\n",
              "         3.4, 3.5, 2.3, 3.2, 3.5, 3.8, 3. , 3.8, 3.2, 3.7, 3.3])],\n",
              " [1,\n",
              "  'Iris-versicolor',\n",
              "  array([3.2, 3.2, 3.1, 2.3, 2.8, 2.8, 3.3, 2.4, 2.9, 2.7, 2. , 3. , 2.2,\n",
              "         2.9, 2.9, 3.1, 3. , 2.7, 2.2, 2.5, 3.2, 2.8, 2.5, 2.8, 2.9, 3. ,\n",
              "         2.8, 3. , 2.9, 2.6, 2.4, 2.4, 2.7, 2.7, 3. , 3.4, 3.1, 2.3, 3. ,\n",
              "         2.5, 2.6, 3. , 2.6, 2.3, 2.7, 3. , 2.9, 2.9, 2.5, 2.8])],\n",
              " [1,\n",
              "  'Iris-virginica',\n",
              "  array([3.3, 2.7, 3. , 2.9, 3. , 3. , 2.5, 2.9, 2.5, 3.6, 3.2, 2.7, 3. ,\n",
              "         2.5, 2.8, 3.2, 3. , 3.8, 2.6, 2.2, 3.2, 2.8, 2.8, 2.7, 3.3, 3.2,\n",
              "         2.8, 3. , 2.8, 3. , 2.8, 3.8, 2.8, 2.8, 2.6, 3. , 3.4, 3.1, 3. ,\n",
              "         3.1, 3.1, 3.1, 2.7, 3.2, 3.3, 3. , 2.5, 3. , 3.4, 3. ])],\n",
              " [2,\n",
              "  'Iris-setosa',\n",
              "  array([1.4, 1.4, 1.3, 1.5, 1.4, 1.7, 1.4, 1.5, 1.4, 1.5, 1.5, 1.6, 1.4,\n",
              "         1.1, 1.2, 1.5, 1.3, 1.4, 1.7, 1.5, 1.7, 1.5, 1. , 1.7, 1.9, 1.6,\n",
              "         1.6, 1.5, 1.4, 1.6, 1.6, 1.5, 1.5, 1.4, 1.5, 1.2, 1.3, 1.5, 1.3,\n",
              "         1.5, 1.3, 1.3, 1.3, 1.6, 1.9, 1.4, 1.6, 1.4, 1.5, 1.4])],\n",
              " [2,\n",
              "  'Iris-versicolor',\n",
              "  array([4.7, 4.5, 4.9, 4. , 4.6, 4.5, 4.7, 3.3, 4.6, 3.9, 3.5, 4.2, 4. ,\n",
              "         4.7, 3.6, 4.4, 4.5, 4.1, 4.5, 3.9, 4.8, 4. , 4.9, 4.7, 4.3, 4.4,\n",
              "         4.8, 5. , 4.5, 3.5, 3.8, 3.7, 3.9, 5.1, 4.5, 4.5, 4.7, 4.4, 4.1,\n",
              "         4. , 4.4, 4.6, 4. , 3.3, 4.2, 4.2, 4.2, 4.3, 3. , 4.1])],\n",
              " [2,\n",
              "  'Iris-virginica',\n",
              "  array([6. , 5.1, 5.9, 5.6, 5.8, 6.6, 4.5, 6.3, 5.8, 6.1, 5.1, 5.3, 5.5,\n",
              "         5. , 5.1, 5.3, 5.5, 6.7, 6.9, 5. , 5.7, 4.9, 6.7, 4.9, 5.7, 6. ,\n",
              "         4.8, 4.9, 5.6, 5.8, 6.1, 6.4, 5.6, 5.1, 5.6, 6.1, 5.6, 5.5, 4.8,\n",
              "         5.4, 5.6, 5.1, 5.1, 5.9, 5.7, 5.2, 5. , 5.2, 5.4, 5.1])],\n",
              " [3,\n",
              "  'Iris-setosa',\n",
              "  array([0.2, 0.2, 0.2, 0.2, 0.2, 0.4, 0.3, 0.2, 0.2, 0.1, 0.2, 0.2, 0.1,\n",
              "         0.1, 0.2, 0.4, 0.4, 0.3, 0.3, 0.3, 0.2, 0.4, 0.2, 0.5, 0.2, 0.2,\n",
              "         0.4, 0.2, 0.2, 0.2, 0.2, 0.4, 0.1, 0.2, 0.1, 0.2, 0.2, 0.1, 0.2,\n",
              "         0.2, 0.3, 0.3, 0.2, 0.6, 0.4, 0.3, 0.2, 0.2, 0.2, 0.2])],\n",
              " [3,\n",
              "  'Iris-versicolor',\n",
              "  array([1.4, 1.5, 1.5, 1.3, 1.5, 1.3, 1.6, 1. , 1.3, 1.4, 1. , 1.5, 1. ,\n",
              "         1.4, 1.3, 1.4, 1.5, 1. , 1.5, 1.1, 1.8, 1.3, 1.5, 1.2, 1.3, 1.4,\n",
              "         1.4, 1.7, 1.5, 1. , 1.1, 1. , 1.2, 1.6, 1.5, 1.6, 1.5, 1.3, 1.3,\n",
              "         1.3, 1.2, 1.4, 1.2, 1. , 1.3, 1.2, 1.3, 1.3, 1.1, 1.3])],\n",
              " [3,\n",
              "  'Iris-virginica',\n",
              "  array([2.5, 1.9, 2.1, 1.8, 2.2, 2.1, 1.7, 1.8, 1.8, 2.5, 2. , 1.9, 2.1,\n",
              "         2. , 2.4, 2.3, 1.8, 2.2, 2.3, 1.5, 2.3, 2. , 2. , 1.8, 2.1, 1.8,\n",
              "         1.8, 1.8, 2.1, 1.6, 1.9, 2. , 2.2, 1.5, 1.4, 2.3, 2.4, 1.8, 1.8,\n",
              "         2.1, 2.4, 2.3, 1.9, 2.3, 2.5, 2.3, 1.9, 2. , 2.3, 1.8])]]"
            ]
          },
          "metadata": {},
          "execution_count": 23
        }
      ]
    },
    {
      "cell_type": "code",
      "source": [
        ""
      ],
      "metadata": {
        "id": "M4o8-0PO4B-9"
      },
      "execution_count": null,
      "outputs": []
    }
  ]
}