{
  "nbformat": 4,
  "nbformat_minor": 0,
  "metadata": {
    "colab": {
      "name": "HW_9_визуализация.ipynb",
      "provenance": [],
      "authorship_tag": "ABX9TyODV7Ph44Fv7RvFYOuvSDBQ",
      "include_colab_link": true
    },
    "kernelspec": {
      "name": "python3",
      "display_name": "Python 3"
    },
    "language_info": {
      "name": "python"
    }
  },
  "cells": [
    {
      "cell_type": "markdown",
      "metadata": {
        "id": "view-in-github",
        "colab_type": "text"
      },
      "source": [
        "<a href=\"https://colab.research.google.com/github/AnToxa0887/innopolis_2/blob/main/HW_9_%D0%B2%D0%B8%D0%B7%D1%83%D0%B0%D0%BB%D0%B8%D0%B7%D0%B0%D1%86%D0%B8%D1%8F.ipynb\" target=\"_parent\"><img src=\"https://colab.research.google.com/assets/colab-badge.svg\" alt=\"Open In Colab\"/></a>"
      ]
    },
    {
      "cell_type": "code",
      "execution_count": 2,
      "metadata": {
        "id": "-RGsaT4bbq4W",
        "outputId": "e676fe7a-5321-4165-8e43-1a2498e103ae",
        "colab": {
          "base_uri": "https://localhost:8080/"
        }
      },
      "outputs": [
        {
          "output_type": "stream",
          "name": "stdout",
          "text": [
            "500\n",
            "       weekday  produced  defective\n",
            "0     1.Monday        73          7\n",
            "1    2.Tuesday        75         10\n",
            "2  3.Wednesday        86          7\n",
            "3   4.Thursday        64          7\n",
            "4     5.Friday        70          6\n"
          ]
        }
      ],
      "source": [
        "import pandas as pd\n",
        "%matplotlib inline\n",
        "\n",
        "df3 = pd.read_csv('df3.csv')\n",
        "print(len(df3))\n",
        "print(df3.head())"
      ]
    },
    {
      "cell_type": "code",
      "source": [
        ""
      ],
      "metadata": {
        "id": "aIXqOoLrbz1X"
      },
      "execution_count": null,
      "outputs": []
    }
  ]
}