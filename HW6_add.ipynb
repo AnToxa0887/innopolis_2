{
  "cells": [
    {
      "cell_type": "markdown",
      "metadata": {
        "id": "view-in-github",
        "colab_type": "text"
      },
      "source": [
        "<a href=\"https://colab.research.google.com/github/AnToxa0887/innopolis_2/blob/main/HW6_add.ipynb\" target=\"_parent\"><img src=\"https://colab.research.google.com/assets/colab-badge.svg\" alt=\"Open In Colab\"/></a>"
      ]
    },
    {
      "cell_type": "code",
      "execution_count": null,
      "metadata": {
        "id": "JIA05VaGf8Ra"
      },
      "outputs": [],
      "source": [
        ""
      ]
    },
    {
      "cell_type": "markdown",
      "metadata": {
        "id": "Oauwfo4FgBia"
      },
      "source": [
        "1. Напишите программу, которая найдет все такие числа, которые делятся на 7, но не делятся на 5, от 2000 до 3200 (включая оба). Полученные числа должны быть напечатаны в последовательности, разделенной запятыми, в одной строке.\n"
      ]
    },
    {
      "cell_type": "code",
      "execution_count": 5,
      "metadata": {
        "colab": {
          "base_uri": "https://localhost:8080/"
        },
        "id": "KDOYq3FhgFh_",
        "outputId": "ded5c260-d233-4a2d-abab-2592bfcd747e"
      },
      "outputs": [
        {
          "output_type": "stream",
          "name": "stdout",
          "text": [
            "[2002, 2009, 2016, 2023, 2037, 2044, 2051, 2058, 2072, 2079, 2086, 2093, 2107, 2114, 2121, 2128, 2142, 2149, 2156, 2163, 2177, 2184, 2191, 2198, 2212, 2219, 2226, 2233, 2247, 2254, 2261, 2268, 2282, 2289, 2296, 2303, 2317, 2324, 2331, 2338, 2352, 2359, 2366, 2373, 2387, 2394, 2401, 2408, 2422, 2429, 2436, 2443, 2457, 2464, 2471, 2478, 2492, 2499, 2506, 2513, 2527, 2534, 2541, 2548, 2562, 2569, 2576, 2583, 2597, 2604, 2611, 2618, 2632, 2639, 2646, 2653, 2667, 2674, 2681, 2688, 2702, 2709, 2716, 2723, 2737, 2744, 2751, 2758, 2772, 2779, 2786, 2793, 2807, 2814, 2821, 2828, 2842, 2849, 2856, 2863, 2877, 2884, 2891, 2898, 2912, 2919, 2926, 2933, 2947, 2954, 2961, 2968, 2982, 2989, 2996, 3003, 3017, 3024, 3031, 3038, 3052, 3059, 3066, 3073, 3087, 3094, 3101, 3108, 3122, 3129, 3136, 3143, 3157, 3164, 3171, 3178, 3192, 3199]\n"
          ]
        }
      ],
      "source": [
        "l=[]\n",
        "for i in range(2000,3201):\n",
        "  if i%7==0 and i%5!=0:\n",
        "    l.append(i)\n",
        "print (l)\n"
      ]
    },
    {
      "cell_type": "code",
      "execution_count": null,
      "metadata": {
        "id": "lgBUWFLMgrAo"
      },
      "outputs": [],
      "source": [
        ""
      ]
    },
    {
      "cell_type": "markdown",
      "source": [
        "2. Напишите программу, которая может вычислить факториалы заданных чисел. Результаты должны быть напечатаны в последовательности, разделенной запятыми, в одной строке."
      ],
      "metadata": {
        "id": "dWMbEksQi_T3"
      }
    },
    {
      "cell_type": "code",
      "source": [
        "print (\"Введите натуральное число:\")\n",
        "n = int(input())\n",
        "fact = 1\n",
        "k=n\n",
        "if n>0:\n",
        "  while k>1:\n",
        "    fact*=k\n",
        "    k -=1\n",
        "  print(\"Факториал числа\", n, \"равен\", fact)\n",
        "else:\n",
        "  print(\"Ошибка! Введите число больше нуля\")\n"
      ],
      "metadata": {
        "colab": {
          "base_uri": "https://localhost:8080/"
        },
        "id": "-ACHLeJwjBd3",
        "outputId": "a14939ae-24b3-4957-e596-333f881d83b3"
      },
      "execution_count": 21,
      "outputs": [
        {
          "output_type": "stream",
          "name": "stdout",
          "text": [
            "Введите натуральное число:\n",
            "7\n",
            "Факториал числа 7 равен 5040\n"
          ]
        }
      ]
    },
    {
      "cell_type": "markdown",
      "source": [
        "3. Напишите программу, которая принимает 2 числа X, Y в качестве входных данных с клавиатуры и генерирует двумерный массив. Значение элемента в i-й строке и j-м столбце массива должно быть i*j.  (нумерация с нуля)\n",
        "\n",
        "Допустим для: i=3, j=5. Результат будет\n",
        "'[\n",
        "[0, 0, 0, 0, 0], \n",
        "[0, 1, 2, 3, 4], \n",
        "[0, 2, 4, 6, 8]\n",
        "]'\n"
      ],
      "metadata": {
        "id": "w_t9u8uHo8Wl"
      }
    },
    {
      "cell_type": "code",
      "source": [
        "print(\"Введите размерность матрицы:\")\n",
        "n=int(input())\n",
        "m=int(input())\n",
        "mat = [[0 for j in range(m)] for i in range(n)]\n",
        "for i in range(n):\n",
        "  for j in range(m):\n",
        "    mat[i][j]=i*j\n",
        "print(\"Ответ\",*mat, sep='\\n')\n"
      ],
      "metadata": {
        "colab": {
          "base_uri": "https://localhost:8080/"
        },
        "id": "uHTwm-QzpAQ8",
        "outputId": "81b9a5f4-0b7d-4996-f8f9-eec16f3c6f7c"
      },
      "execution_count": 31,
      "outputs": [
        {
          "output_type": "stream",
          "name": "stdout",
          "text": [
            "Введите размерность матрицы:\n",
            "3\n",
            "5\n",
            "Ответ\n",
            "[0, 0, 0, 0, 0]\n",
            "[0, 1, 2, 3, 4]\n",
            "[0, 2, 4, 6, 8]\n"
          ]
        }
      ]
    },
    {
      "cell_type": "markdown",
      "source": [
        "4. Веб-сайт требует, чтобы пользователи вводили имя пользователя и пароль для регистрации. Напишите программу для проверки правильности ввода пароля пользователями.\n",
        "\n",
        "Ниже приведены критерии проверки пароля:\n",
        "Как минимум 1 буква между [a-z]\n",
        "По крайней мере, 1 число между [0–9]\n",
        "По крайней мере, 1 буква между [A–Z]\n",
        "По крайней мере, 1 символ из [$#@]\n",
        "Минимальная длина пароля транзакции: 6\n",
        "Максимальная длина пароля транзакции: 12\n"
      ],
      "metadata": {
        "id": "gqb29IBCthlS"
      }
    },
    {
      "cell_type": "code",
      "source": [
        "import re\n",
        "def check_parol():\n",
        "  print(\"Введите пароль:\")\n",
        "  password = input()\n",
        "  if len(password)>12:\n",
        "    print(\"Пароль слишком длинный!\")\n",
        "  elif len(password)<6:\n",
        "    print(\"Пароль слишком короткий!\")\n",
        "  elif not re.search(\"[a-z]\",password):\n",
        "    print(\"Пароль должен содержать хотя бы 1 строчную букву!\")\n",
        "  elif not re.search(\"[0-9]\",password):\n",
        "    print(\"Пароль должен содержать хотя бы 1 цифру!\")\n",
        "  elif not re.search(\"[A-Z]\",password):\n",
        "    print(\"Пароль должен содержать хотя бы 1 заглавную букву!\")\n",
        "  elif not re.search(\"[$#@]\",password):\n",
        "    print(\"Пароль должен содержать хотя бы 1 символ ($#@)!\")\n",
        "  else:\n",
        "    print(\"Пароль введен корректно!\")\n",
        "check_parol()"
      ],
      "metadata": {
        "id": "yc3SmBC-tnJj"
      },
      "execution_count": null,
      "outputs": []
    },
    {
      "cell_type": "code",
      "source": [
        ""
      ],
      "metadata": {
        "id": "BRPaAytPy4i8"
      },
      "execution_count": 33,
      "outputs": []
    }
  ],
  "metadata": {
    "colab": {
      "name": "HW6_add.ipynb",
      "provenance": [],
      "collapsed_sections": [],
      "authorship_tag": "ABX9TyMVIvFcmcFbpHvKjBnS1SEQ",
      "include_colab_link": true
    },
    "kernelspec": {
      "display_name": "Python 3",
      "name": "python3"
    },
    "language_info": {
      "name": "python"
    }
  },
  "nbformat": 4,
  "nbformat_minor": 0
}