{
  "nbformat": 4,
  "nbformat_minor": 0,
  "metadata": {
    "colab": {
      "name": "HW_13_Attestation.ipynb",
      "provenance": [],
      "collapsed_sections": [],
      "authorship_tag": "ABX9TyNndH6QcbD/arCgGqE9+xIX",
      "include_colab_link": true
    },
    "kernelspec": {
      "name": "python3",
      "display_name": "Python 3"
    },
    "language_info": {
      "name": "python"
    }
  },
  "cells": [
    {
      "cell_type": "markdown",
      "metadata": {
        "id": "view-in-github",
        "colab_type": "text"
      },
      "source": [
        "<a href=\"https://colab.research.google.com/github/AnToxa0887/innopolis_2/blob/main/HW_13_Attestation.ipynb\" target=\"_parent\"><img src=\"https://colab.research.google.com/assets/colab-badge.svg\" alt=\"Open In Colab\"/></a>"
      ]
    },
    {
      "cell_type": "code",
      "execution_count": 1,
      "metadata": {
        "colab": {
          "base_uri": "https://localhost:8080/"
        },
        "id": "UC_YtEbu5d02",
        "outputId": "895c2d22-ba77-4429-c81e-2de024bdf406"
      },
      "outputs": [
        {
          "output_type": "stream",
          "name": "stdout",
          "text": [
            "Collecting pyspark\n",
            "  Downloading pyspark-3.2.1.tar.gz (281.4 MB)\n",
            "\u001b[K     |████████████████████████████████| 281.4 MB 34 kB/s \n",
            "\u001b[?25hCollecting py4j==0.10.9.3\n",
            "  Downloading py4j-0.10.9.3-py2.py3-none-any.whl (198 kB)\n",
            "\u001b[K     |████████████████████████████████| 198 kB 46.7 MB/s \n",
            "\u001b[?25hBuilding wheels for collected packages: pyspark\n",
            "  Building wheel for pyspark (setup.py) ... \u001b[?25l\u001b[?25hdone\n",
            "  Created wheel for pyspark: filename=pyspark-3.2.1-py2.py3-none-any.whl size=281853642 sha256=a8e7a6a7bf686bb8abf1df9913bbc8c89812ccc17ceffd5cf6c6bc22729f3060\n",
            "  Stored in directory: /root/.cache/pip/wheels/9f/f5/07/7cd8017084dce4e93e84e92efd1e1d5334db05f2e83bcef74f\n",
            "Successfully built pyspark\n",
            "Installing collected packages: py4j, pyspark\n",
            "Successfully installed py4j-0.10.9.3 pyspark-3.2.1\n"
          ]
        }
      ],
      "source": [
        "!pip install pyspark"
      ]
    },
    {
      "cell_type": "code",
      "source": [
        "# загружаем библиотеки\n",
        "import pandas as pd\n",
        "import numpy as np\n",
        "\n",
        "from pyspark.sql.functions import *\n",
        "from pyspark.sql.types import DoubleType, IntegerType, DateType\n",
        "\n",
        "from pyspark.ml.feature import StringIndexer\n",
        "from pyspark.ml import Pipeline\n",
        "from pyspark.ml.feature import VectorAssembler\n",
        "from pyspark.ml.classification import LogisticRegression\n",
        "from pyspark.ml.evaluation import MulticlassClassificationEvaluator"
      ],
      "metadata": {
        "id": "7susRLPM5n2s"
      },
      "execution_count": 2,
      "outputs": []
    },
    {
      "cell_type": "code",
      "source": [
        "from pyspark.context import SparkContext\n",
        "from pyspark.sql.session import SparkSession #to define a SparkSession\n",
        "\n",
        "sc = SparkContext('local') #spark_connection\n",
        "spark = SparkSession(sc) # open spark session"
      ],
      "metadata": {
        "id": "U7nX1gvD5qvA"
      },
      "execution_count": 3,
      "outputs": []
    },
    {
      "cell_type": "markdown",
      "source": [
        "Задание. Обучите модель классификации для цветков Iris'а"
      ],
      "metadata": {
        "id": "abRQl3Gq57Bc"
      }
    },
    {
      "cell_type": "markdown",
      "source": [
        "1. Взять данные iris.csv\n",
        "2. Загрузить в pyspark"
      ],
      "metadata": {
        "id": "YKRMs0nI58rS"
      }
    },
    {
      "cell_type": "code",
      "source": [
        "# Используем options() чтобы задать несколько опций:\n",
        "# header=True - Для чтения использует первую строку в качестве имен столбцов\n",
        "# sep=\",\" - Устанавливает разделитель для каждого поля и значения\n",
        "# quote=\"\" - Нужно установить пустую строку для отключения кавычки, тк quote по-умолчанию \", тк ковычки не являются разделителем\n",
        "df = spark.read.format(\"com.databricks.spark.csv\").options(sep=\",\", header=True, quote=\"\").csv('iris.csv')"
      ],
      "metadata": {
        "id": "aSDIeKND5_4-"
      },
      "execution_count": 4,
      "outputs": []
    },
    {
      "cell_type": "code",
      "source": [
        "df.show(5)"
      ],
      "metadata": {
        "colab": {
          "base_uri": "https://localhost:8080/"
        },
        "id": "XJQ9UeV66IuF",
        "outputId": "592e94f8-9084-4c5d-baec-0a38605f9aca"
      },
      "execution_count": 5,
      "outputs": [
        {
          "output_type": "stream",
          "name": "stdout",
          "text": [
            "+-------------+---------------+----------------+---------------+------------+\n",
            "|\"sepal.length|\"\"sepal.width\"\"|\"\"petal.length\"\"|\"\"petal.width\"\"|\"\"variety\"\"\"|\n",
            "+-------------+---------------+----------------+---------------+------------+\n",
            "|         \"5.1|            3.5|             1.4|             .2| \"\"Setosa\"\"\"|\n",
            "|         \"4.9|              3|             1.4|             .2| \"\"Setosa\"\"\"|\n",
            "|         \"4.7|            3.2|             1.3|             .2| \"\"Setosa\"\"\"|\n",
            "|         \"4.6|            3.1|             1.5|             .2| \"\"Setosa\"\"\"|\n",
            "|           \"5|            3.6|             1.4|             .2| \"\"Setosa\"\"\"|\n",
            "+-------------+---------------+----------------+---------------+------------+\n",
            "only showing top 5 rows\n",
            "\n"
          ]
        }
      ]
    },
    {
      "cell_type": "code",
      "source": [
        "df.printSchema()"
      ],
      "metadata": {
        "colab": {
          "base_uri": "https://localhost:8080/"
        },
        "id": "h9GP8aYs6JJK",
        "outputId": "1f9f1f3f-ad12-4bf7-b51a-af58f9b990c7"
      },
      "execution_count": 6,
      "outputs": [
        {
          "output_type": "stream",
          "name": "stdout",
          "text": [
            "root\n",
            " |-- \"sepal.length: string (nullable = true)\n",
            " |-- \"\"sepal.width\"\": string (nullable = true)\n",
            " |-- \"\"petal.length\"\": string (nullable = true)\n",
            " |-- \"\"petal.width\"\": string (nullable = true)\n",
            " |-- \"\"variety\"\"\": string (nullable = true)\n",
            "\n"
          ]
        }
      ]
    },
    {
      "cell_type": "code",
      "source": [
        "#преобразуем названия колонок, создав новый датафрейм\n",
        "newColumns = [\"sepal_length\",\"sepal_width\",\"petal_length\",\"petal_width\",\"variety\"]\n",
        "df_new = df.toDF(*newColumns)\n",
        "\n",
        "#удалим двойные ковычки в первом и последнем атрибутах\n",
        "df_new = df_new.withColumn(\"sepal_length\", regexp_replace(col(\"sepal_length\"), '\"', \"\"))\\\n",
        "    .withColumn(\"variety\", regexp_replace(col(\"variety\"), '\"', \"\"))\n",
        "\n",
        "#преобразуем в новые типы данных\n",
        "df_new = df_new \\\n",
        "    .withColumn('sepal_length', col('sepal_length').cast(DoubleType())) \\\n",
        "    .withColumn('sepal_width', col('sepal_width').cast(DoubleType())) \\\n",
        "    .withColumn('petal_length', col('petal_length').cast(DoubleType())) \\\n",
        "    .withColumn('petal_width', col('petal_width').cast(DoubleType()))"
      ],
      "metadata": {
        "id": "rcwR20n46WoK"
      },
      "execution_count": 7,
      "outputs": []
    },
    {
      "cell_type": "code",
      "source": [
        "df_new.show(5) #посмотрим на преобразование нового df"
      ],
      "metadata": {
        "colab": {
          "base_uri": "https://localhost:8080/"
        },
        "id": "2qBB_XZ36syO",
        "outputId": "747266e9-8e01-4460-b33e-dffbd1517632"
      },
      "execution_count": 8,
      "outputs": [
        {
          "output_type": "stream",
          "name": "stdout",
          "text": [
            "+------------+-----------+------------+-----------+-------+\n",
            "|sepal_length|sepal_width|petal_length|petal_width|variety|\n",
            "+------------+-----------+------------+-----------+-------+\n",
            "|         5.1|        3.5|         1.4|        0.2| Setosa|\n",
            "|         4.9|        3.0|         1.4|        0.2| Setosa|\n",
            "|         4.7|        3.2|         1.3|        0.2| Setosa|\n",
            "|         4.6|        3.1|         1.5|        0.2| Setosa|\n",
            "|         5.0|        3.6|         1.4|        0.2| Setosa|\n",
            "+------------+-----------+------------+-----------+-------+\n",
            "only showing top 5 rows\n",
            "\n"
          ]
        }
      ]
    },
    {
      "cell_type": "code",
      "source": [
        "df_new.printSchema() #посмотрим на типы атрибутов"
      ],
      "metadata": {
        "colab": {
          "base_uri": "https://localhost:8080/"
        },
        "id": "oj82l2qj6sEX",
        "outputId": "49da2157-faf6-452d-d814-865e586ab79c"
      },
      "execution_count": 9,
      "outputs": [
        {
          "output_type": "stream",
          "name": "stdout",
          "text": [
            "root\n",
            " |-- sepal_length: double (nullable = true)\n",
            " |-- sepal_width: double (nullable = true)\n",
            " |-- petal_length: double (nullable = true)\n",
            " |-- petal_width: double (nullable = true)\n",
            " |-- variety: string (nullable = true)\n",
            "\n"
          ]
        }
      ]
    },
    {
      "cell_type": "code",
      "source": [
        "df_new.summary().show()\n",
        "#df_new.describe().show()"
      ],
      "metadata": {
        "colab": {
          "base_uri": "https://localhost:8080/"
        },
        "id": "tCoMjl7V63TO",
        "outputId": "c159b4b0-62f4-45fe-eb16-fb3be89a5a3c"
      },
      "execution_count": 10,
      "outputs": [
        {
          "output_type": "stream",
          "name": "stdout",
          "text": [
            "+-------+------------------+-------------------+------------------+------------------+---------+\n",
            "|summary|      sepal_length|        sepal_width|      petal_length|       petal_width|  variety|\n",
            "+-------+------------------+-------------------+------------------+------------------+---------+\n",
            "|  count|               150|                150|               150|               150|      150|\n",
            "|   mean| 5.843333333333335|  3.057333333333334|3.7580000000000027| 1.199333333333334|     null|\n",
            "| stddev|0.8280661279778637|0.43586628493669793|1.7652982332594662|0.7622376689603467|     null|\n",
            "|    min|               4.3|                2.0|               1.0|               0.1|   Setosa|\n",
            "|    25%|               5.1|                2.8|               1.6|               0.3|     null|\n",
            "|    50%|               5.8|                3.0|               4.3|               1.3|     null|\n",
            "|    75%|               6.4|                3.3|               5.1|               1.8|     null|\n",
            "|    max|               7.9|                4.4|               6.9|               2.5|Virginica|\n",
            "+-------+------------------+-------------------+------------------+------------------+---------+\n",
            "\n"
          ]
        }
      ]
    },
    {
      "cell_type": "markdown",
      "source": [
        "3. При помощи VectorAssembler преобразовать все колонки с признаками в одну\n",
        "(использовать PipeLine)"
      ],
      "metadata": {
        "id": "QGBNddmm6-Vh"
      }
    },
    {
      "cell_type": "markdown",
      "source": [
        "Объединим данные в новый столбец, преобразуя признаки в вектор"
      ],
      "metadata": {
        "id": "ZF9umkvFUaKh"
      }
    },
    {
      "cell_type": "code",
      "source": [
        "pipeline = Pipeline(stages = \n",
        "[\n",
        "  StringIndexer(inputCol='variety', outputCol='varietyInd'),\n",
        "  VectorAssembler(inputCols=[\"sepal_length\", \"sepal_width\", \"petal_length\", \"petal_width\"], outputCol='Features')\n",
        "]\n",
        ")"
      ],
      "metadata": {
        "id": "t3Vu0aCo64NB"
      },
      "execution_count": 11,
      "outputs": []
    },
    {
      "cell_type": "code",
      "source": [
        "# подгоняем через заданный pipeline наш датасет\n",
        "pipelineTrained = pipeline.fit(df_new)"
      ],
      "metadata": {
        "id": "9EyApQ3W8rC7"
      },
      "execution_count": 12,
      "outputs": []
    },
    {
      "cell_type": "code",
      "source": [
        "# применяем метод transform для объекта VectorAssembler (преобразуем признаки в вектор) \n",
        "pipelineTrained.transform(df_new).show()"
      ],
      "metadata": {
        "colab": {
          "base_uri": "https://localhost:8080/"
        },
        "id": "Wlh_e0C98rfK",
        "outputId": "517ca5fe-401e-48b6-e7bf-e0982072d1a2"
      },
      "execution_count": 13,
      "outputs": [
        {
          "output_type": "stream",
          "name": "stdout",
          "text": [
            "+------------+-----------+------------+-----------+-------+----------+-----------------+\n",
            "|sepal_length|sepal_width|petal_length|petal_width|variety|varietyInd|         Features|\n",
            "+------------+-----------+------------+-----------+-------+----------+-----------------+\n",
            "|         5.1|        3.5|         1.4|        0.2| Setosa|       0.0|[5.1,3.5,1.4,0.2]|\n",
            "|         4.9|        3.0|         1.4|        0.2| Setosa|       0.0|[4.9,3.0,1.4,0.2]|\n",
            "|         4.7|        3.2|         1.3|        0.2| Setosa|       0.0|[4.7,3.2,1.3,0.2]|\n",
            "|         4.6|        3.1|         1.5|        0.2| Setosa|       0.0|[4.6,3.1,1.5,0.2]|\n",
            "|         5.0|        3.6|         1.4|        0.2| Setosa|       0.0|[5.0,3.6,1.4,0.2]|\n",
            "|         5.4|        3.9|         1.7|        0.4| Setosa|       0.0|[5.4,3.9,1.7,0.4]|\n",
            "|         4.6|        3.4|         1.4|        0.3| Setosa|       0.0|[4.6,3.4,1.4,0.3]|\n",
            "|         5.0|        3.4|         1.5|        0.2| Setosa|       0.0|[5.0,3.4,1.5,0.2]|\n",
            "|         4.4|        2.9|         1.4|        0.2| Setosa|       0.0|[4.4,2.9,1.4,0.2]|\n",
            "|         4.9|        3.1|         1.5|        0.1| Setosa|       0.0|[4.9,3.1,1.5,0.1]|\n",
            "|         5.4|        3.7|         1.5|        0.2| Setosa|       0.0|[5.4,3.7,1.5,0.2]|\n",
            "|         4.8|        3.4|         1.6|        0.2| Setosa|       0.0|[4.8,3.4,1.6,0.2]|\n",
            "|         4.8|        3.0|         1.4|        0.1| Setosa|       0.0|[4.8,3.0,1.4,0.1]|\n",
            "|         4.3|        3.0|         1.1|        0.1| Setosa|       0.0|[4.3,3.0,1.1,0.1]|\n",
            "|         5.8|        4.0|         1.2|        0.2| Setosa|       0.0|[5.8,4.0,1.2,0.2]|\n",
            "|         5.7|        4.4|         1.5|        0.4| Setosa|       0.0|[5.7,4.4,1.5,0.4]|\n",
            "|         5.4|        3.9|         1.3|        0.4| Setosa|       0.0|[5.4,3.9,1.3,0.4]|\n",
            "|         5.1|        3.5|         1.4|        0.3| Setosa|       0.0|[5.1,3.5,1.4,0.3]|\n",
            "|         5.7|        3.8|         1.7|        0.3| Setosa|       0.0|[5.7,3.8,1.7,0.3]|\n",
            "|         5.1|        3.8|         1.5|        0.3| Setosa|       0.0|[5.1,3.8,1.5,0.3]|\n",
            "+------------+-----------+------------+-----------+-------+----------+-----------------+\n",
            "only showing top 20 rows\n",
            "\n"
          ]
        }
      ]
    },
    {
      "cell_type": "code",
      "source": [
        "# с новым признаком Features создаем новый датафрейм\n",
        "df_features = pipelineTrained.transform(df_new)"
      ],
      "metadata": {
        "id": "fxrwNcrUKlJ4"
      },
      "execution_count": 14,
      "outputs": []
    },
    {
      "cell_type": "markdown",
      "source": [
        "4. Разбить данные на train и test"
      ],
      "metadata": {
        "id": "Pj66kupxKyIm"
      }
    },
    {
      "cell_type": "markdown",
      "source": [
        "Разобьем данные на 2 выборки - тестовую и обучаемую. На обучающей мы будем обучать модель, а на тестовой проверять эффективность обученной модели. Для этого в PySpark нужно вызвать метод randomSplit, который разделит исходный датасет в заданной пропорции. Мы разделим в пропорции 80:20."
      ],
      "metadata": {
        "id": "eU8SzmnxUxAS"
      }
    },
    {
      "cell_type": "code",
      "source": [
        "# назначаем соответствующие веса и указываем seed (рандомное разделение ввыборки сохранилось)\n",
        "train, test = df_features.randomSplit([0.8, 0.2], seed=12345) "
      ],
      "metadata": {
        "id": "l3gCtX7CKscG"
      },
      "execution_count": 17,
      "outputs": []
    },
    {
      "cell_type": "code",
      "source": [
        "# посмотрим на обучающую выборку\n",
        "train.show()"
      ],
      "metadata": {
        "colab": {
          "base_uri": "https://localhost:8080/"
        },
        "id": "fn9zAqldK7br",
        "outputId": "dafa2461-d694-4b4c-f148-ab90457a305d"
      },
      "execution_count": 18,
      "outputs": [
        {
          "output_type": "stream",
          "name": "stdout",
          "text": [
            "+------------+-----------+------------+-----------+----------+----------+-----------------+\n",
            "|sepal_length|sepal_width|petal_length|petal_width|   variety|varietyInd|         Features|\n",
            "+------------+-----------+------------+-----------+----------+----------+-----------------+\n",
            "|         4.3|        3.0|         1.1|        0.1|    Setosa|       0.0|[4.3,3.0,1.1,0.1]|\n",
            "|         4.4|        2.9|         1.4|        0.2|    Setosa|       0.0|[4.4,2.9,1.4,0.2]|\n",
            "|         4.4|        3.0|         1.3|        0.2|    Setosa|       0.0|[4.4,3.0,1.3,0.2]|\n",
            "|         4.4|        3.2|         1.3|        0.2|    Setosa|       0.0|[4.4,3.2,1.3,0.2]|\n",
            "|         4.5|        2.3|         1.3|        0.3|    Setosa|       0.0|[4.5,2.3,1.3,0.3]|\n",
            "|         4.6|        3.1|         1.5|        0.2|    Setosa|       0.0|[4.6,3.1,1.5,0.2]|\n",
            "|         4.6|        3.4|         1.4|        0.3|    Setosa|       0.0|[4.6,3.4,1.4,0.3]|\n",
            "|         4.6|        3.6|         1.0|        0.2|    Setosa|       0.0|[4.6,3.6,1.0,0.2]|\n",
            "|         4.7|        3.2|         1.3|        0.2|    Setosa|       0.0|[4.7,3.2,1.3,0.2]|\n",
            "|         4.7|        3.2|         1.6|        0.2|    Setosa|       0.0|[4.7,3.2,1.6,0.2]|\n",
            "|         4.8|        3.0|         1.4|        0.1|    Setosa|       0.0|[4.8,3.0,1.4,0.1]|\n",
            "|         4.8|        3.0|         1.4|        0.3|    Setosa|       0.0|[4.8,3.0,1.4,0.3]|\n",
            "|         4.8|        3.1|         1.6|        0.2|    Setosa|       0.0|[4.8,3.1,1.6,0.2]|\n",
            "|         4.8|        3.4|         1.6|        0.2|    Setosa|       0.0|[4.8,3.4,1.6,0.2]|\n",
            "|         4.8|        3.4|         1.9|        0.2|    Setosa|       0.0|[4.8,3.4,1.9,0.2]|\n",
            "|         4.9|        2.4|         3.3|        1.0|Versicolor|       1.0|[4.9,2.4,3.3,1.0]|\n",
            "|         4.9|        2.5|         4.5|        1.7| Virginica|       2.0|[4.9,2.5,4.5,1.7]|\n",
            "|         4.9|        3.0|         1.4|        0.2|    Setosa|       0.0|[4.9,3.0,1.4,0.2]|\n",
            "|         4.9|        3.1|         1.5|        0.1|    Setosa|       0.0|[4.9,3.1,1.5,0.1]|\n",
            "|         4.9|        3.1|         1.5|        0.2|    Setosa|       0.0|[4.9,3.1,1.5,0.2]|\n",
            "+------------+-----------+------------+-----------+----------+----------+-----------------+\n",
            "only showing top 20 rows\n",
            "\n"
          ]
        }
      ]
    },
    {
      "cell_type": "code",
      "source": [
        "test.show()"
      ],
      "metadata": {
        "colab": {
          "base_uri": "https://localhost:8080/"
        },
        "id": "1-WYi7zTMUVL",
        "outputId": "ca1bfc7d-034c-4d65-b24b-dd0fcaa3e015"
      },
      "execution_count": 19,
      "outputs": [
        {
          "output_type": "stream",
          "name": "stdout",
          "text": [
            "+------------+-----------+------------+-----------+----------+----------+-----------------+\n",
            "|sepal_length|sepal_width|petal_length|petal_width|   variety|varietyInd|         Features|\n",
            "+------------+-----------+------------+-----------+----------+----------+-----------------+\n",
            "|         4.6|        3.2|         1.4|        0.2|    Setosa|       0.0|[4.6,3.2,1.4,0.2]|\n",
            "|         5.0|        3.0|         1.6|        0.2|    Setosa|       0.0|[5.0,3.0,1.6,0.2]|\n",
            "|         5.0|        3.2|         1.2|        0.2|    Setosa|       0.0|[5.0,3.2,1.2,0.2]|\n",
            "|         5.0|        3.5|         1.3|        0.3|    Setosa|       0.0|[5.0,3.5,1.3,0.3]|\n",
            "|         5.1|        3.5|         1.4|        0.3|    Setosa|       0.0|[5.1,3.5,1.4,0.3]|\n",
            "|         5.4|        3.4|         1.5|        0.4|    Setosa|       0.0|[5.4,3.4,1.5,0.4]|\n",
            "|         5.4|        3.9|         1.3|        0.4|    Setosa|       0.0|[5.4,3.9,1.3,0.4]|\n",
            "|         5.7|        2.8|         4.1|        1.3|Versicolor|       1.0|[5.7,2.8,4.1,1.3]|\n",
            "|         6.1|        2.9|         4.7|        1.4|Versicolor|       1.0|[6.1,2.9,4.7,1.4]|\n",
            "|         6.2|        2.2|         4.5|        1.5|Versicolor|       1.0|[6.2,2.2,4.5,1.5]|\n",
            "|         6.2|        3.4|         5.4|        2.3| Virginica|       2.0|[6.2,3.4,5.4,2.3]|\n",
            "|         6.4|        3.1|         5.5|        1.8| Virginica|       2.0|[6.4,3.1,5.5,1.8]|\n",
            "|         6.5|        3.0|         5.2|        2.0| Virginica|       2.0|[6.5,3.0,5.2,2.0]|\n",
            "|         6.5|        3.2|         5.1|        2.0| Virginica|       2.0|[6.5,3.2,5.1,2.0]|\n",
            "|         6.7|        2.5|         5.8|        1.8| Virginica|       2.0|[6.7,2.5,5.8,1.8]|\n",
            "|         6.7|        3.0|         5.2|        2.3| Virginica|       2.0|[6.7,3.0,5.2,2.3]|\n",
            "|         6.7|        3.1|         4.7|        1.5|Versicolor|       1.0|[6.7,3.1,4.7,1.5]|\n",
            "|         6.7|        3.3|         5.7|        2.5| Virginica|       2.0|[6.7,3.3,5.7,2.5]|\n",
            "|         6.9|        3.1|         4.9|        1.5|Versicolor|       1.0|[6.9,3.1,4.9,1.5]|\n",
            "|         6.9|        3.1|         5.4|        2.1| Virginica|       2.0|[6.9,3.1,5.4,2.1]|\n",
            "+------------+-----------+------------+-----------+----------+----------+-----------------+\n",
            "only showing top 20 rows\n",
            "\n"
          ]
        }
      ]
    },
    {
      "cell_type": "markdown",
      "source": [
        "5. Создать модель логистической регресии и обучить ее"
      ],
      "metadata": {
        "id": "jljo6oYMNgCZ"
      }
    },
    {
      "cell_type": "markdown",
      "source": [
        "Теперь воспользуемся логистической регрессией (Logistic Regression), которая есть в PySpark, в качестве алгоритма Machine learning. Для этого нужно указать признаки, на которых модель обучается, и признак, который нужно классифицировать. Мы преобразовали признаки цветка в вектор под названием features, поэтому именно его и указываем в аргументе, а целевым признаком будет числовое поле varietyInd"
      ],
      "metadata": {
        "id": "duYAY-erVaxN"
      }
    },
    {
      "cell_type": "code",
      "source": [
        "lr = LogisticRegression(featuresCol = 'Features', labelCol = 'varietyInd')\n",
        "lrModel = lr.fit(train)"
      ],
      "metadata": {
        "id": "NcBdkVHtNhA4"
      },
      "execution_count": 20,
      "outputs": []
    },
    {
      "cell_type": "code",
      "source": [
        "#Получаем предсказание\n",
        "train_res = lrModel.transform(train)\n",
        "test_res = lrModel.transform(test)"
      ],
      "metadata": {
        "id": "G1ohIxtjNds5"
      },
      "execution_count": 21,
      "outputs": []
    },
    {
      "cell_type": "code",
      "source": [
        "# посмотрим, какие предсказания дает модель на обучающей выборке\n",
        "train_res.show()"
      ],
      "metadata": {
        "colab": {
          "base_uri": "https://localhost:8080/"
        },
        "id": "6u9suBXuQnq9",
        "outputId": "a5bb62e6-f620-40ef-999a-4e5361dafc48"
      },
      "execution_count": 22,
      "outputs": [
        {
          "output_type": "stream",
          "name": "stdout",
          "text": [
            "+------------+-----------+------------+-----------+----------+----------+-----------------+--------------------+--------------------+----------+\n",
            "|sepal_length|sepal_width|petal_length|petal_width|   variety|varietyInd|         Features|       rawPrediction|         probability|prediction|\n",
            "+------------+-----------+------------+-----------+----------+----------+-----------------+--------------------+--------------------+----------+\n",
            "|         4.3|        3.0|         1.1|        0.1|    Setosa|       0.0|[4.3,3.0,1.1,0.1]|[67.7027919587531...|[1.0,1.6424718354...|       0.0|\n",
            "|         4.4|        2.9|         1.4|        0.2|    Setosa|       0.0|[4.4,2.9,1.4,0.2]|[57.0087434717148...|[1.0,1.4036227809...|       0.0|\n",
            "|         4.4|        3.0|         1.3|        0.2|    Setosa|       0.0|[4.4,3.0,1.3,0.2]|[61.7475610236625...|[1.0,2.4772179810...|       0.0|\n",
            "|         4.4|        3.2|         1.3|        0.2|    Setosa|       0.0|[4.4,3.2,1.3,0.2]|[68.8060989728479...|[1.0,1.2455403381...|       0.0|\n",
            "|         4.5|        2.3|         1.3|        0.3|    Setosa|       0.0|[4.5,2.3,1.3,0.3]|[33.5065444211333...|[0.99999999999743...|       0.0|\n",
            "|         4.6|        3.1|         1.5|        0.2|    Setosa|       0.0|[4.6,3.1,1.5,0.2]|[61.0755416232729...|[1.0,5.0956843582...|       0.0|\n",
            "|         4.6|        3.4|         1.4|        0.3|    Setosa|       0.0|[4.6,3.4,1.4,0.3]|[70.2278589541617...|[1.0,9.9660365310...|       0.0|\n",
            "|         4.6|        3.6|         1.0|        0.2|    Setosa|       0.0|[4.6,3.6,1.0,0.2]|[84.7696293830116...|[1.0,8.7251237620...|       0.0|\n",
            "|         4.7|        3.2|         1.3|        0.2|    Setosa|       0.0|[4.7,3.2,1.3,0.2]|[66.1328121424396...|[1.0,9.4890152732...|       0.0|\n",
            "|         4.7|        3.2|         1.6|        0.2|    Setosa|       0.0|[4.7,3.2,1.6,0.2]|[62.5041664103744...|[1.0,6.1541780872...|       0.0|\n",
            "|         4.8|        3.0|         1.4|        0.1|    Setosa|       0.0|[4.8,3.0,1.4,0.1]|[59.6186681760073...|[1.0,1.4584305706...|       0.0|\n",
            "|         4.8|        3.0|         1.4|        0.3|    Setosa|       0.0|[4.8,3.0,1.4,0.3]|[54.3285918355187...|[1.0,7.0845275488...|       0.0|\n",
            "|         4.8|        3.1|         1.6|        0.2|    Setosa|       0.0|[4.8,3.1,1.6,0.2]|[58.0838018256456...|[1.0,3.6792648855...|       0.0|\n",
            "|         4.8|        3.4|         1.6|        0.2|    Setosa|       0.0|[4.8,3.4,1.6,0.2]|[68.6716087494237...|[1.0,1.3117510359...|       0.0|\n",
            "|         4.8|        3.4|         1.9|        0.2|    Setosa|       0.0|[4.8,3.4,1.9,0.2]|[65.0429630173585...|[1.0,8.5074681082...|       0.0|\n",
            "|         4.9|        2.4|         3.3|        1.0|Versicolor|       1.0|[4.9,2.4,3.3,1.0]|[-9.2348077836296...|[5.60296124082673...|       1.0|\n",
            "|         4.9|        2.5|         4.5|        1.7| Virginica|       2.0|[4.9,2.5,4.5,1.7]|[-38.735388929007...|[1.73753692383009...|       2.0|\n",
            "|         4.9|        3.0|         1.4|        0.2|    Setosa|       0.0|[4.9,3.0,1.4,0.2]|[56.0825343956269...|[1.0,1.3626556118...|       0.0|\n",
            "|         4.9|        3.1|         1.5|        0.1|    Setosa|       0.0|[4.9,3.1,1.5,0.1]|[61.0472929631089...|[1.0,1.7613809704...|       0.0|\n",
            "|         4.9|        3.1|         1.5|        0.2|    Setosa|       0.0|[4.9,3.1,1.5,0.2]|[58.4022547928645...|[1.0,3.8820923917...|       0.0|\n",
            "+------------+-----------+------------+-----------+----------+----------+-----------------+--------------------+--------------------+----------+\n",
            "only showing top 20 rows\n",
            "\n"
          ]
        }
      ]
    },
    {
      "cell_type": "code",
      "source": [
        "# посмотрим, какие предсказания дает модель на тестовой выборке\n",
        "test_res.show()"
      ],
      "metadata": {
        "colab": {
          "base_uri": "https://localhost:8080/"
        },
        "id": "7E9v88D5Q668",
        "outputId": "0c792a2a-8d26-46ac-88c1-8d069c6db69d"
      },
      "execution_count": 23,
      "outputs": [
        {
          "output_type": "stream",
          "name": "stdout",
          "text": [
            "+------------+-----------+------------+-----------+----------+----------+-----------------+--------------------+--------------------+----------+\n",
            "|sepal_length|sepal_width|petal_length|petal_width|   variety|varietyInd|         Features|       rawPrediction|         probability|prediction|\n",
            "+------------+-----------+------------+-----------+----------+----------+-----------------+--------------------+--------------------+----------+\n",
            "|         4.6|        3.2|         1.4|        0.2|    Setosa|       0.0|[4.6,3.2,1.4,0.2]|[65.8143591752207...|[1.0,8.9932431201...|       0.0|\n",
            "|         5.0|        3.0|         1.6|        0.2|    Setosa|       0.0|[5.0,3.0,1.6,0.2]|[52.7723416307807...|[1.0,9.3248066295...|       0.0|\n",
            "|         5.0|        3.2|         1.2|        0.2|    Setosa|       0.0|[5.0,3.2,1.2,0.2]|[64.6690738893863...|[1.0,1.7992914773...|       0.0|\n",
            "|         5.0|        3.5|         1.3|        0.3|    Setosa|       0.0|[5.0,3.5,1.3,0.3]|[71.4022940655650...|[1.0,5.6805112138...|       0.0|\n",
            "|         5.1|        3.5|         1.4|        0.3|    Setosa|       0.0|[5.1,3.5,1.4,0.3]|[69.3016498780739...|[1.0,9.6751604427...|       0.0|\n",
            "|         5.4|        3.4|         1.5|        0.4|    Setosa|       0.0|[5.4,3.4,1.5,0.4]|[59.2445073254735...|[1.0,9.2049254554...|       0.0|\n",
            "|         5.4|        3.9|         1.3|        0.4|    Setosa|       0.0|[5.4,3.9,1.3,0.4]|[79.3099493531470...|[1.0,1.0222056261...|       0.0|\n",
            "|         5.7|        2.8|         4.1|        1.3|Versicolor|       1.0|[5.7,2.8,4.1,1.3]|[-19.857999895921...|[2.92296739402976...|       1.0|\n",
            "|         6.1|        2.9|         4.7|        1.4|Versicolor|       1.0|[6.1,2.9,4.7,1.4]|[-29.795442996247...|[1.37507021891532...|       1.0|\n",
            "|         6.2|        2.2|         4.5|        1.5|Versicolor|       1.0|[6.2,2.2,4.5,1.5]|[-55.617362444066...|[1.89148902308776...|       1.0|\n",
            "|         6.2|        3.4|         5.4|        2.3| Virginica|       2.0|[6.2,3.4,5.4,2.3]|[-45.312377307104...|[1.05183032133338...|       2.0|\n",
            "|         6.4|        3.1|         5.5|        1.8| Virginica|       2.0|[6.4,3.1,5.5,1.8]|[-45.666733177288...|[1.40585868757656...|       2.0|\n",
            "|         6.5|        3.0|         5.2|        2.0| Virginica|       2.0|[6.5,3.0,5.2,2.0]|[-51.748528370440...|[7.53728472914469...|       2.0|\n",
            "|         6.5|        3.2|         5.1|        2.0| Virginica|       2.0|[6.5,3.2,5.1,2.0]|[-43.480441843900...|[5.51578248731895...|       2.0|\n",
            "|         6.7|        2.5|         5.8|        1.8| Virginica|       2.0|[6.7,2.5,5.8,1.8]|[-73.144279587317...|[8.71478137458529...|       2.0|\n",
            "|         6.7|        3.0|         5.2|        2.3| Virginica|       2.0|[6.7,3.0,5.2,2.3]|[-61.465834101445...|[3.17365707702393...|       2.0|\n",
            "|         6.7|        3.1|         4.7|        1.5|Versicolor|       1.0|[6.7,3.1,4.7,1.5]|[-30.728516878123...|[2.13953602238392...|       1.0|\n",
            "|         6.7|        3.3|         5.7|        2.5| Virginica|       2.0|[6.7,3.3,5.7,2.5]|[-62.215846404931...|[6.06480734858109...|       2.0|\n",
            "|         6.9|        3.1|         4.9|        1.5|Versicolor|       1.0|[6.9,3.1,4.9,1.5]|[-34.929805253105...|[7.36597936086620...|       1.0|\n",
            "|         6.9|        3.1|         5.4|        2.1| Virginica|       2.0|[6.9,3.1,5.4,2.1]|[-56.847777161346...|[1.39659261185467...|       2.0|\n",
            "+------------+-----------+------------+-----------+----------+----------+-----------------+--------------------+--------------------+----------+\n",
            "only showing top 20 rows\n",
            "\n"
          ]
        }
      ]
    },
    {
      "cell_type": "markdown",
      "source": [
        "6. Воспользоваться MulticlassClassificationEvaluator для оценки качества на train и test\n",
        "множестве"
      ],
      "metadata": {
        "id": "kplgp9AeRY9S"
      }
    },
    {
      "cell_type": "markdown",
      "source": [
        "Для оценки качества предсказания в spark реализованно несколько классов Если мы решаем задачу бинарной классификации (то есть классов - 2), то нам подойдет BinaryCLassificationEvaluator, а если классов больше 2-х, то MulticlassClassificationEvaluator.\n",
        "\n",
        "Проверим эффективность модели, используя метрику качества MulticlassClassificationEvaluator, тк признак variety состоит из 3х значений. Нужно лишь указать целевой признак varietyInd, а затем вызвать метод evaluate и передать в него наши предсказания"
      ],
      "metadata": {
        "id": "u8auzXIxRcPr"
      }
    },
    {
      "cell_type": "code",
      "source": [
        "ev = MulticlassClassificationEvaluator(labelCol='varietyInd')"
      ],
      "metadata": {
        "id": "ikcEyPl8Q_pD"
      },
      "execution_count": 24,
      "outputs": []
    },
    {
      "cell_type": "code",
      "source": [
        "print('Точность предсказания на обучающей выборке:', ev.evaluate(train_res)*100, '%')"
      ],
      "metadata": {
        "colab": {
          "base_uri": "https://localhost:8080/"
        },
        "id": "F546MxNVRjzH",
        "outputId": "9e49314d-f332-4a96-9656-5d6f4763b520"
      },
      "execution_count": 25,
      "outputs": [
        {
          "output_type": "stream",
          "name": "stdout",
          "text": [
            "Точность предсказания на обучающей выборке: 98.44961240310077 %\n"
          ]
        }
      ]
    },
    {
      "cell_type": "code",
      "source": [
        "print('Точность предсказания на тестовой выборке:', ev.evaluate(test_res)*100, '%')"
      ],
      "metadata": {
        "colab": {
          "base_uri": "https://localhost:8080/"
        },
        "id": "yk7PUQemRmOf",
        "outputId": "82d23f45-4f4a-4fa6-9778-5483d4933cb4"
      },
      "execution_count": 26,
      "outputs": [
        {
          "output_type": "stream",
          "name": "stdout",
          "text": [
            "Точность предсказания на тестовой выборке: 100.0 %\n"
          ]
        }
      ]
    },
    {
      "cell_type": "markdown",
      "source": [
        "Выводы: На обучающей выборке получили модель с точностью более 98%, что является хорошим результатом, т.к на тестовой выборке модель показала точность 100%"
      ],
      "metadata": {
        "id": "CAIYk2uxSeU9"
      }
    },
    {
      "cell_type": "code",
      "source": [
        ""
      ],
      "metadata": {
        "id": "En-n-u4SRpcn"
      },
      "execution_count": null,
      "outputs": []
    }
  ]
}